{
 "cells": [
  {
   "cell_type": "code",
   "execution_count": 1,
   "metadata": {},
   "outputs": [],
   "source": [
    "import numpy as np # linear algebra\n",
    "import pandas as pd # data processing, CSV file I/O (e.g. pd.read_csv)\n",
    "import seaborn as sns\n",
    "import matplotlib.pyplot as plt"
   ]
  },
  {
   "cell_type": "code",
   "execution_count": 2,
   "metadata": {},
   "outputs": [],
   "source": [
    "file_name=r'C:\\Users\\hp\\Downloads\\diabetesCorrected.csv'\n",
    "df=pd.read_csv(file_name)"
   ]
  },
  {
   "cell_type": "code",
   "execution_count": 3,
   "metadata": {},
   "outputs": [
    {
     "data": {
      "text/html": [
       "<div>\n",
       "<style scoped>\n",
       "    .dataframe tbody tr th:only-of-type {\n",
       "        vertical-align: middle;\n",
       "    }\n",
       "\n",
       "    .dataframe tbody tr th {\n",
       "        vertical-align: top;\n",
       "    }\n",
       "\n",
       "    .dataframe thead th {\n",
       "        text-align: right;\n",
       "    }\n",
       "</style>\n",
       "<table border=\"1\" class=\"dataframe\">\n",
       "  <thead>\n",
       "    <tr style=\"text-align: right;\">\n",
       "      <th></th>\n",
       "      <th>Glucose</th>\n",
       "      <th>Insulin</th>\n",
       "      <th>SkinThickness</th>\n",
       "      <th>Pregnancies</th>\n",
       "      <th>BloodPressure</th>\n",
       "      <th>BMI</th>\n",
       "      <th>DiabetesPedigreeFunction</th>\n",
       "      <th>Age</th>\n",
       "      <th>Outcome</th>\n",
       "    </tr>\n",
       "  </thead>\n",
       "  <tbody>\n",
       "    <tr>\n",
       "      <th>0</th>\n",
       "      <td>89</td>\n",
       "      <td>94</td>\n",
       "      <td>23</td>\n",
       "      <td>1</td>\n",
       "      <td>66</td>\n",
       "      <td>28.1</td>\n",
       "      <td>0.167</td>\n",
       "      <td>21</td>\n",
       "      <td>0</td>\n",
       "    </tr>\n",
       "    <tr>\n",
       "      <th>1</th>\n",
       "      <td>137</td>\n",
       "      <td>168</td>\n",
       "      <td>35</td>\n",
       "      <td>0</td>\n",
       "      <td>40</td>\n",
       "      <td>43.1</td>\n",
       "      <td>2.288</td>\n",
       "      <td>33</td>\n",
       "      <td>1</td>\n",
       "    </tr>\n",
       "    <tr>\n",
       "      <th>2</th>\n",
       "      <td>78</td>\n",
       "      <td>88</td>\n",
       "      <td>32</td>\n",
       "      <td>3</td>\n",
       "      <td>50</td>\n",
       "      <td>31.0</td>\n",
       "      <td>0.248</td>\n",
       "      <td>26</td>\n",
       "      <td>1</td>\n",
       "    </tr>\n",
       "    <tr>\n",
       "      <th>3</th>\n",
       "      <td>197</td>\n",
       "      <td>543</td>\n",
       "      <td>45</td>\n",
       "      <td>2</td>\n",
       "      <td>70</td>\n",
       "      <td>30.5</td>\n",
       "      <td>0.158</td>\n",
       "      <td>53</td>\n",
       "      <td>1</td>\n",
       "    </tr>\n",
       "    <tr>\n",
       "      <th>4</th>\n",
       "      <td>189</td>\n",
       "      <td>846</td>\n",
       "      <td>23</td>\n",
       "      <td>1</td>\n",
       "      <td>60</td>\n",
       "      <td>30.1</td>\n",
       "      <td>0.398</td>\n",
       "      <td>59</td>\n",
       "      <td>1</td>\n",
       "    </tr>\n",
       "  </tbody>\n",
       "</table>\n",
       "</div>"
      ],
      "text/plain": [
       "   Glucose  Insulin  SkinThickness  Pregnancies  BloodPressure   BMI  \\\n",
       "0       89       94             23            1             66  28.1   \n",
       "1      137      168             35            0             40  43.1   \n",
       "2       78       88             32            3             50  31.0   \n",
       "3      197      543             45            2             70  30.5   \n",
       "4      189      846             23            1             60  30.1   \n",
       "\n",
       "   DiabetesPedigreeFunction  Age  Outcome  \n",
       "0                     0.167   21        0  \n",
       "1                     2.288   33        1  \n",
       "2                     0.248   26        1  \n",
       "3                     0.158   53        1  \n",
       "4                     0.398   59        1  "
      ]
     },
     "execution_count": 3,
     "metadata": {},
     "output_type": "execute_result"
    }
   ],
   "source": [
    "df.head()"
   ]
  },
  {
   "cell_type": "code",
   "execution_count": 4,
   "metadata": {},
   "outputs": [],
   "source": [
    "df.rename(columns={'Outcome': 'Diabetic Possitive'},inplace=True)"
   ]
  },
  {
   "cell_type": "code",
   "execution_count": 5,
   "metadata": {},
   "outputs": [
    {
     "data": {
      "text/plain": [
       "Glucose                       int64\n",
       "Insulin                       int64\n",
       "SkinThickness                 int64\n",
       "Pregnancies                   int64\n",
       "BloodPressure                 int64\n",
       "BMI                         float64\n",
       "DiabetesPedigreeFunction    float64\n",
       "Age                           int64\n",
       "Diabetic Possitive            int64\n",
       "dtype: object"
      ]
     },
     "execution_count": 5,
     "metadata": {},
     "output_type": "execute_result"
    }
   ],
   "source": [
    "df.dtypes"
   ]
  },
  {
   "cell_type": "code",
   "execution_count": 6,
   "metadata": {},
   "outputs": [
    {
     "data": {
      "text/plain": [
       "Glucose                     0\n",
       "Insulin                     0\n",
       "SkinThickness               0\n",
       "Pregnancies                 0\n",
       "BloodPressure               0\n",
       "BMI                         0\n",
       "DiabetesPedigreeFunction    0\n",
       "Age                         0\n",
       "Diabetic Possitive          0\n",
       "dtype: int64"
      ]
     },
     "execution_count": 6,
     "metadata": {},
     "output_type": "execute_result"
    }
   ],
   "source": [
    "df.isnull().sum()"
   ]
  },
  {
   "cell_type": "code",
   "execution_count": 7,
   "metadata": {},
   "outputs": [
    {
     "data": {
      "text/html": [
       "<div>\n",
       "<style scoped>\n",
       "    .dataframe tbody tr th:only-of-type {\n",
       "        vertical-align: middle;\n",
       "    }\n",
       "\n",
       "    .dataframe tbody tr th {\n",
       "        vertical-align: top;\n",
       "    }\n",
       "\n",
       "    .dataframe thead th {\n",
       "        text-align: right;\n",
       "    }\n",
       "</style>\n",
       "<table border=\"1\" class=\"dataframe\">\n",
       "  <thead>\n",
       "    <tr style=\"text-align: right;\">\n",
       "      <th></th>\n",
       "      <th>Glucose</th>\n",
       "      <th>Insulin</th>\n",
       "      <th>SkinThickness</th>\n",
       "      <th>Pregnancies</th>\n",
       "      <th>BloodPressure</th>\n",
       "      <th>BMI</th>\n",
       "      <th>DiabetesPedigreeFunction</th>\n",
       "      <th>Age</th>\n",
       "      <th>Diabetic Possitive</th>\n",
       "    </tr>\n",
       "  </thead>\n",
       "  <tbody>\n",
       "    <tr>\n",
       "      <th>count</th>\n",
       "      <td>394.000000</td>\n",
       "      <td>394.000000</td>\n",
       "      <td>394.000000</td>\n",
       "      <td>394.000000</td>\n",
       "      <td>394.000000</td>\n",
       "      <td>394.000000</td>\n",
       "      <td>394.000000</td>\n",
       "      <td>394.000000</td>\n",
       "      <td>394.000000</td>\n",
       "    </tr>\n",
       "    <tr>\n",
       "      <th>mean</th>\n",
       "      <td>122.304569</td>\n",
       "      <td>155.548223</td>\n",
       "      <td>29.106599</td>\n",
       "      <td>3.286802</td>\n",
       "      <td>70.654822</td>\n",
       "      <td>32.988579</td>\n",
       "      <td>0.525543</td>\n",
       "      <td>30.814721</td>\n",
       "      <td>0.329949</td>\n",
       "    </tr>\n",
       "    <tr>\n",
       "      <th>std</th>\n",
       "      <td>31.396725</td>\n",
       "      <td>118.775855</td>\n",
       "      <td>10.504273</td>\n",
       "      <td>3.209635</td>\n",
       "      <td>12.469919</td>\n",
       "      <td>7.210160</td>\n",
       "      <td>0.350127</td>\n",
       "      <td>10.198971</td>\n",
       "      <td>0.470792</td>\n",
       "    </tr>\n",
       "    <tr>\n",
       "      <th>min</th>\n",
       "      <td>0.000000</td>\n",
       "      <td>14.000000</td>\n",
       "      <td>7.000000</td>\n",
       "      <td>0.000000</td>\n",
       "      <td>24.000000</td>\n",
       "      <td>0.000000</td>\n",
       "      <td>0.085000</td>\n",
       "      <td>21.000000</td>\n",
       "      <td>0.000000</td>\n",
       "    </tr>\n",
       "    <tr>\n",
       "      <th>25%</th>\n",
       "      <td>99.000000</td>\n",
       "      <td>76.250000</td>\n",
       "      <td>21.000000</td>\n",
       "      <td>1.000000</td>\n",
       "      <td>62.000000</td>\n",
       "      <td>28.325000</td>\n",
       "      <td>0.270250</td>\n",
       "      <td>23.000000</td>\n",
       "      <td>0.000000</td>\n",
       "    </tr>\n",
       "    <tr>\n",
       "      <th>50%</th>\n",
       "      <td>119.000000</td>\n",
       "      <td>125.000000</td>\n",
       "      <td>29.000000</td>\n",
       "      <td>2.000000</td>\n",
       "      <td>70.000000</td>\n",
       "      <td>33.200000</td>\n",
       "      <td>0.449500</td>\n",
       "      <td>27.000000</td>\n",
       "      <td>0.000000</td>\n",
       "    </tr>\n",
       "    <tr>\n",
       "      <th>75%</th>\n",
       "      <td>143.000000</td>\n",
       "      <td>190.000000</td>\n",
       "      <td>36.750000</td>\n",
       "      <td>5.000000</td>\n",
       "      <td>78.000000</td>\n",
       "      <td>37.075000</td>\n",
       "      <td>0.687000</td>\n",
       "      <td>36.000000</td>\n",
       "      <td>1.000000</td>\n",
       "    </tr>\n",
       "    <tr>\n",
       "      <th>max</th>\n",
       "      <td>198.000000</td>\n",
       "      <td>846.000000</td>\n",
       "      <td>63.000000</td>\n",
       "      <td>17.000000</td>\n",
       "      <td>110.000000</td>\n",
       "      <td>67.100000</td>\n",
       "      <td>2.420000</td>\n",
       "      <td>81.000000</td>\n",
       "      <td>1.000000</td>\n",
       "    </tr>\n",
       "  </tbody>\n",
       "</table>\n",
       "</div>"
      ],
      "text/plain": [
       "          Glucose     Insulin  SkinThickness  Pregnancies  BloodPressure  \\\n",
       "count  394.000000  394.000000     394.000000   394.000000     394.000000   \n",
       "mean   122.304569  155.548223      29.106599     3.286802      70.654822   \n",
       "std     31.396725  118.775855      10.504273     3.209635      12.469919   \n",
       "min      0.000000   14.000000       7.000000     0.000000      24.000000   \n",
       "25%     99.000000   76.250000      21.000000     1.000000      62.000000   \n",
       "50%    119.000000  125.000000      29.000000     2.000000      70.000000   \n",
       "75%    143.000000  190.000000      36.750000     5.000000      78.000000   \n",
       "max    198.000000  846.000000      63.000000    17.000000     110.000000   \n",
       "\n",
       "              BMI  DiabetesPedigreeFunction         Age  Diabetic Possitive  \n",
       "count  394.000000                394.000000  394.000000          394.000000  \n",
       "mean    32.988579                  0.525543   30.814721            0.329949  \n",
       "std      7.210160                  0.350127   10.198971            0.470792  \n",
       "min      0.000000                  0.085000   21.000000            0.000000  \n",
       "25%     28.325000                  0.270250   23.000000            0.000000  \n",
       "50%     33.200000                  0.449500   27.000000            0.000000  \n",
       "75%     37.075000                  0.687000   36.000000            1.000000  \n",
       "max     67.100000                  2.420000   81.000000            1.000000  "
      ]
     },
     "execution_count": 7,
     "metadata": {},
     "output_type": "execute_result"
    }
   ],
   "source": [
    "df.describe()"
   ]
  },
  {
   "cell_type": "code",
   "execution_count": 8,
   "metadata": {},
   "outputs": [],
   "source": [
    "mean=df['SkinThickness'].mean()\n",
    "df['SkinThickness'].replace(0,mean, inplace=True)"
   ]
  },
  {
   "cell_type": "code",
   "execution_count": 9,
   "metadata": {},
   "outputs": [
    {
     "data": {
      "text/plain": [
       "<AxesSubplot:xlabel='Diabetic Possitive', ylabel='count'>"
      ]
     },
     "execution_count": 9,
     "metadata": {},
     "output_type": "execute_result"
    },
    {
     "data": {
      "image/png": "[encoded data removed]",
      "text/plain": [
       "<Figure size 432x288 with 1 Axes>"
      ]
     },
     "metadata": {
      "needs_background": "light"
     },
     "output_type": "display_data"
    }
   ],
   "source": [
    "sns.countplot(x='Diabetic Possitive',data=df)"
   ]
  },
  {
   "cell_type": "code",
   "execution_count": 10,
   "metadata": {},
   "outputs": [
    {
     "name": "stderr",
     "output_type": "stream",
     "text": [
      "C:\\Users\\hp\\anaconda3.0\\lib\\site-packages\\seaborn\\distributions.py:2557: FutureWarning: `distplot` is a deprecated function and will be removed in a future version. Please adapt your code to use either `displot` (a figure-level function with similar flexibility) or `histplot` (an axes-level function for histograms).\n",
      "  warnings.warn(msg, FutureWarning)\n"
     ]
    },
    {
     "data": {
      "text/plain": [
       "<AxesSubplot:xlabel='Age', ylabel='Density'>"
      ]
     },
     "execution_count": 10,
     "metadata": {},
     "output_type": "execute_result"
    },
    {
     "data": {
      "image/png": "[encoded data removed]",
      "text/plain": [
       "<Figure size 432x288 with 1 Axes>"
      ]
     },
     "metadata": {
      "needs_background": "light"
     },
     "output_type": "display_data"
    }
   ],
   "source": [
    "sns.distplot(df['Age'].dropna(),kde=True)"
   ]
  },
  {
   "cell_type": "code",
   "execution_count": 11,
   "metadata": {},
   "outputs": [
    {
     "data": {
      "text/html": [
       "<div>\n",
       "<style scoped>\n",
       "    .dataframe tbody tr th:only-of-type {\n",
       "        vertical-align: middle;\n",
       "    }\n",
       "\n",
       "    .dataframe tbody tr th {\n",
       "        vertical-align: top;\n",
       "    }\n",
       "\n",
       "    .dataframe thead th {\n",
       "        text-align: right;\n",
       "    }\n",
       "</style>\n",
       "<table border=\"1\" class=\"dataframe\">\n",
       "  <thead>\n",
       "    <tr style=\"text-align: right;\">\n",
       "      <th></th>\n",
       "      <th>Glucose</th>\n",
       "      <th>Insulin</th>\n",
       "      <th>SkinThickness</th>\n",
       "      <th>Pregnancies</th>\n",
       "      <th>BloodPressure</th>\n",
       "      <th>BMI</th>\n",
       "      <th>DiabetesPedigreeFunction</th>\n",
       "      <th>Age</th>\n",
       "      <th>Diabetic Possitive</th>\n",
       "    </tr>\n",
       "  </thead>\n",
       "  <tbody>\n",
       "    <tr>\n",
       "      <th>Glucose</th>\n",
       "      <td>1.000000</td>\n",
       "      <td>0.580010</td>\n",
       "      <td>0.203526</td>\n",
       "      <td>0.201487</td>\n",
       "      <td>0.203356</td>\n",
       "      <td>0.208711</td>\n",
       "      <td>0.140409</td>\n",
       "      <td>0.346041</td>\n",
       "      <td>0.512201</td>\n",
       "    </tr>\n",
       "    <tr>\n",
       "      <th>Insulin</th>\n",
       "      <td>0.580010</td>\n",
       "      <td>1.000000</td>\n",
       "      <td>0.184888</td>\n",
       "      <td>0.082171</td>\n",
       "      <td>0.098272</td>\n",
       "      <td>0.228328</td>\n",
       "      <td>0.130395</td>\n",
       "      <td>0.220261</td>\n",
       "      <td>0.303454</td>\n",
       "    </tr>\n",
       "    <tr>\n",
       "      <th>SkinThickness</th>\n",
       "      <td>0.203526</td>\n",
       "      <td>0.184888</td>\n",
       "      <td>1.000000</td>\n",
       "      <td>0.095997</td>\n",
       "      <td>0.232342</td>\n",
       "      <td>0.653425</td>\n",
       "      <td>0.154056</td>\n",
       "      <td>0.170694</td>\n",
       "      <td>0.257854</td>\n",
       "    </tr>\n",
       "    <tr>\n",
       "      <th>Pregnancies</th>\n",
       "      <td>0.201487</td>\n",
       "      <td>0.082171</td>\n",
       "      <td>0.095997</td>\n",
       "      <td>1.000000</td>\n",
       "      <td>0.213740</td>\n",
       "      <td>-0.011282</td>\n",
       "      <td>-0.000402</td>\n",
       "      <td>0.680920</td>\n",
       "      <td>0.258846</td>\n",
       "    </tr>\n",
       "    <tr>\n",
       "      <th>BloodPressure</th>\n",
       "      <td>0.203356</td>\n",
       "      <td>0.098272</td>\n",
       "      <td>0.232342</td>\n",
       "      <td>0.213740</td>\n",
       "      <td>1.000000</td>\n",
       "      <td>0.301530</td>\n",
       "      <td>-0.020834</td>\n",
       "      <td>0.299845</td>\n",
       "      <td>0.192819</td>\n",
       "    </tr>\n",
       "    <tr>\n",
       "      <th>BMI</th>\n",
       "      <td>0.208711</td>\n",
       "      <td>0.228328</td>\n",
       "      <td>0.653425</td>\n",
       "      <td>-0.011282</td>\n",
       "      <td>0.301530</td>\n",
       "      <td>1.000000</td>\n",
       "      <td>0.112954</td>\n",
       "      <td>0.080778</td>\n",
       "      <td>0.271796</td>\n",
       "    </tr>\n",
       "    <tr>\n",
       "      <th>DiabetesPedigreeFunction</th>\n",
       "      <td>0.140409</td>\n",
       "      <td>0.130395</td>\n",
       "      <td>0.154056</td>\n",
       "      <td>-0.000402</td>\n",
       "      <td>-0.020834</td>\n",
       "      <td>0.112954</td>\n",
       "      <td>1.000000</td>\n",
       "      <td>0.076609</td>\n",
       "      <td>0.200759</td>\n",
       "    </tr>\n",
       "    <tr>\n",
       "      <th>Age</th>\n",
       "      <td>0.346041</td>\n",
       "      <td>0.220261</td>\n",
       "      <td>0.170694</td>\n",
       "      <td>0.680920</td>\n",
       "      <td>0.299845</td>\n",
       "      <td>0.080778</td>\n",
       "      <td>0.076609</td>\n",
       "      <td>1.000000</td>\n",
       "      <td>0.352982</td>\n",
       "    </tr>\n",
       "    <tr>\n",
       "      <th>Diabetic Possitive</th>\n",
       "      <td>0.512201</td>\n",
       "      <td>0.303454</td>\n",
       "      <td>0.257854</td>\n",
       "      <td>0.258846</td>\n",
       "      <td>0.192819</td>\n",
       "      <td>0.271796</td>\n",
       "      <td>0.200759</td>\n",
       "      <td>0.352982</td>\n",
       "      <td>1.000000</td>\n",
       "    </tr>\n",
       "  </tbody>\n",
       "</table>\n",
       "</div>"
      ],
      "text/plain": [
       "                           Glucose   Insulin  SkinThickness  Pregnancies  \\\n",
       "Glucose                   1.000000  0.580010       0.203526     0.201487   \n",
       "Insulin                   0.580010  1.000000       0.184888     0.082171   \n",
       "SkinThickness             0.203526  0.184888       1.000000     0.095997   \n",
       "Pregnancies               0.201487  0.082171       0.095997     1.000000   \n",
       "BloodPressure             0.203356  0.098272       0.232342     0.213740   \n",
       "BMI                       0.208711  0.228328       0.653425    -0.011282   \n",
       "DiabetesPedigreeFunction  0.140409  0.130395       0.154056    -0.000402   \n",
       "Age                       0.346041  0.220261       0.170694     0.680920   \n",
       "Diabetic Possitive        0.512201  0.303454       0.257854     0.258846   \n",
       "\n",
       "                          BloodPressure       BMI  DiabetesPedigreeFunction  \\\n",
       "Glucose                        0.203356  0.208711                  0.140409   \n",
       "Insulin                        0.098272  0.228328                  0.130395   \n",
       "SkinThickness                  0.232342  0.653425                  0.154056   \n",
       "Pregnancies                    0.213740 -0.011282                 -0.000402   \n",
       "BloodPressure                  1.000000  0.301530                 -0.020834   \n",
       "BMI                            0.301530  1.000000                  0.112954   \n",
       "DiabetesPedigreeFunction      -0.020834  0.112954                  1.000000   \n",
       "Age                            0.299845  0.080778                  0.076609   \n",
       "Diabetic Possitive             0.192819  0.271796                  0.200759   \n",
       "\n",
       "                               Age  Diabetic Possitive  \n",
       "Glucose                   0.346041            0.512201  \n",
       "Insulin                   0.220261            0.303454  \n",
       "SkinThickness             0.170694            0.257854  \n",
       "Pregnancies               0.680920            0.258846  \n",
       "BloodPressure             0.299845            0.192819  \n",
       "BMI                       0.080778            0.271796  \n",
       "DiabetesPedigreeFunction  0.076609            0.200759  \n",
       "Age                       1.000000            0.352982  \n",
       "Diabetic Possitive        0.352982            1.000000  "
      ]
     },
     "execution_count": 11,
     "metadata": {},
     "output_type": "execute_result"
    }
   ],
   "source": [
    "df.corr()"
   ]
  },
  {
   "cell_type": "code",
   "execution_count": 12,
   "metadata": {},
   "outputs": [
    {
     "data": {
      "text/plain": [
       "BloodPressure               0.192819\n",
       "DiabetesPedigreeFunction    0.200759\n",
       "SkinThickness               0.257854\n",
       "Pregnancies                 0.258846\n",
       "BMI                         0.271796\n",
       "Insulin                     0.303454\n",
       "Age                         0.352982\n",
       "Glucose                     0.512201\n",
       "Diabetic Possitive          1.000000\n",
       "Name: Diabetic Possitive, dtype: float64"
      ]
     },
     "execution_count": 12,
     "metadata": {},
     "output_type": "execute_result"
    }
   ],
   "source": [
    "df.corr()['Diabetic Possitive'].sort_values()"
   ]
  },
  {
   "cell_type": "code",
   "execution_count": 13,
   "metadata": {},
   "outputs": [
    {
     "data": {
      "text/plain": [
       "<AxesSubplot:xlabel='Age', ylabel='count'>"
      ]
     },
     "execution_count": 13,
     "metadata": {},
     "output_type": "execute_result"
    },
    {
     "data": {
      "image/png": "[encoded data removed]",
      "text/plain": [
       "<Figure size 1440x432 with 1 Axes>"
      ]
     },
     "metadata": {
      "needs_background": "light"
     },
     "output_type": "display_data"
    }
   ],
   "source": [
    "plt.figure(figsize=(20,6))\n",
    "sns.countplot(x='Age' , hue = \"Diabetic Possitive\", data = df)"
   ]
  },
  {
   "cell_type": "code",
   "execution_count": 14,
   "metadata": {},
   "outputs": [
    {
     "data": {
      "text/plain": [
       "<AxesSubplot:xlabel='Pregnancies', ylabel='count'>"
      ]
     },
     "execution_count": 14,
     "metadata": {},
     "output_type": "execute_result"
    },
    {
     "data": {
      "image/png": "[encoded data removed]",
      "text/plain": [
       "<Figure size 1440x432 with 1 Axes>"
      ]
     },
     "metadata": {
      "needs_background": "light"
     },
     "output_type": "display_data"
    }
   ],
   "source": [
    "plt.figure(figsize=(20,6))\n",
    "sns.countplot(x='Pregnancies' , hue = \"Diabetic Possitive\", data = df)"
   ]
  },
  {
   "cell_type": "code",
   "execution_count": 15,
   "metadata": {},
   "outputs": [
    {
     "data": {
      "text/plain": [
       "<Figure size 360x1080 with 0 Axes>"
      ]
     },
     "execution_count": 15,
     "metadata": {},
     "output_type": "execute_result"
    },
    {
     "data": {
      "image/png": "[encoded data removed]",
      "text/plain": [
       "<Figure size 456.25x360 with 1 Axes>"
      ]
     },
     "metadata": {
      "needs_background": "light"
     },
     "output_type": "display_data"
    },
    {
     "data": {
      "text/plain": [
       "<Figure size 360x1080 with 0 Axes>"
      ]
     },
     "metadata": {},
     "output_type": "display_data"
    }
   ],
   "source": [
    "\n",
    "sns.lmplot(x=\"Glucose\", y=\"BloodPressure\", hue=\"Diabetic Possitive\", data=df)\n",
    "plt.figure(figsize=(5,15))"
   ]
  },
  {
   "cell_type": "code",
   "execution_count": 16,
   "metadata": {},
   "outputs": [],
   "source": [
    "\n",
    "from statsmodels.stats.outliers_influence import variance_inflation_factor\n",
    "def calc_vif(X):\n",
    "    # Calculating VIF\n",
    "    vif = pd.DataFrame()\n",
    "    vif[\"variables\"] = X.columns\n",
    "    vif[\"VIF\"] = [variance_inflation_factor(X.values, i) \n",
    "    for i in range(X.shape[1])]\n",
    "    return(vif)"
   ]
  },
  {
   "cell_type": "code",
   "execution_count": 17,
   "metadata": {},
   "outputs": [
    {
     "data": {
      "text/html": [
       "<div>\n",
       "<style scoped>\n",
       "    .dataframe tbody tr th:only-of-type {\n",
       "        vertical-align: middle;\n",
       "    }\n",
       "\n",
       "    .dataframe tbody tr th {\n",
       "        vertical-align: top;\n",
       "    }\n",
       "\n",
       "    .dataframe thead th {\n",
       "        text-align: right;\n",
       "    }\n",
       "</style>\n",
       "<table border=\"1\" class=\"dataframe\">\n",
       "  <thead>\n",
       "    <tr style=\"text-align: right;\">\n",
       "      <th></th>\n",
       "      <th>variables</th>\n",
       "      <th>VIF</th>\n",
       "    </tr>\n",
       "  </thead>\n",
       "  <tbody>\n",
       "    <tr>\n",
       "      <th>0</th>\n",
       "      <td>Glucose</td>\n",
       "      <td>23.973849</td>\n",
       "    </tr>\n",
       "    <tr>\n",
       "      <th>1</th>\n",
       "      <td>BloodPressure</td>\n",
       "      <td>29.797243</td>\n",
       "    </tr>\n",
       "    <tr>\n",
       "      <th>2</th>\n",
       "      <td>Pregnancies</td>\n",
       "      <td>3.813608</td>\n",
       "    </tr>\n",
       "    <tr>\n",
       "      <th>3</th>\n",
       "      <td>SkinThickness</td>\n",
       "      <td>15.541889</td>\n",
       "    </tr>\n",
       "    <tr>\n",
       "      <th>4</th>\n",
       "      <td>Insulin</td>\n",
       "      <td>4.024165</td>\n",
       "    </tr>\n",
       "    <tr>\n",
       "      <th>5</th>\n",
       "      <td>BMI</td>\n",
       "      <td>36.598121</td>\n",
       "    </tr>\n",
       "    <tr>\n",
       "      <th>6</th>\n",
       "      <td>DiabetesPedigreeFunction</td>\n",
       "      <td>3.362890</td>\n",
       "    </tr>\n",
       "    <tr>\n",
       "      <th>7</th>\n",
       "      <td>Age</td>\n",
       "      <td>20.919092</td>\n",
       "    </tr>\n",
       "  </tbody>\n",
       "</table>\n",
       "</div>"
      ],
      "text/plain": [
       "                  variables        VIF\n",
       "0                   Glucose  23.973849\n",
       "1             BloodPressure  29.797243\n",
       "2               Pregnancies   3.813608\n",
       "3             SkinThickness  15.541889\n",
       "4                   Insulin   4.024165\n",
       "5                       BMI  36.598121\n",
       "6  DiabetesPedigreeFunction   3.362890\n",
       "7                       Age  20.919092"
      ]
     },
     "execution_count": 17,
     "metadata": {},
     "output_type": "execute_result"
    }
   ],
   "source": [
    "inVar=df[['Glucose','BloodPressure','Pregnancies','SkinThickness','Insulin','BMI','DiabetesPedigreeFunction','Age']]\n",
    "calc_vif(inVar)\n"
   ]
  },
  {
   "cell_type": "markdown",
   "metadata": {},
   "source": [
    "### Dropping Insulin,BloodPressure,Pregnancies,SkinThickness"
   ]
  },
  {
   "cell_type": "code",
   "execution_count": 18,
   "metadata": {},
   "outputs": [
    {
     "data": {
      "text/html": [
       "<div>\n",
       "<style scoped>\n",
       "    .dataframe tbody tr th:only-of-type {\n",
       "        vertical-align: middle;\n",
       "    }\n",
       "\n",
       "    .dataframe tbody tr th {\n",
       "        vertical-align: top;\n",
       "    }\n",
       "\n",
       "    .dataframe thead th {\n",
       "        text-align: right;\n",
       "    }\n",
       "</style>\n",
       "<table border=\"1\" class=\"dataframe\">\n",
       "  <thead>\n",
       "    <tr style=\"text-align: right;\">\n",
       "      <th></th>\n",
       "      <th>variables</th>\n",
       "      <th>VIF</th>\n",
       "    </tr>\n",
       "  </thead>\n",
       "  <tbody>\n",
       "    <tr>\n",
       "      <th>0</th>\n",
       "      <td>Glucose</td>\n",
       "      <td>16.696623</td>\n",
       "    </tr>\n",
       "    <tr>\n",
       "      <th>1</th>\n",
       "      <td>BMI</td>\n",
       "      <td>13.602206</td>\n",
       "    </tr>\n",
       "    <tr>\n",
       "      <th>2</th>\n",
       "      <td>DiabetesPedigreeFunction</td>\n",
       "      <td>3.319117</td>\n",
       "    </tr>\n",
       "    <tr>\n",
       "      <th>3</th>\n",
       "      <td>Age</td>\n",
       "      <td>10.538656</td>\n",
       "    </tr>\n",
       "  </tbody>\n",
       "</table>\n",
       "</div>"
      ],
      "text/plain": [
       "                  variables        VIF\n",
       "0                   Glucose  16.696623\n",
       "1                       BMI  13.602206\n",
       "2  DiabetesPedigreeFunction   3.319117\n",
       "3                       Age  10.538656"
      ]
     },
     "execution_count": 18,
     "metadata": {},
     "output_type": "execute_result"
    }
   ],
   "source": [
    "X =df[['Glucose','BMI','DiabetesPedigreeFunction','Age']]\n",
    "calc_vif(X)"
   ]
  },
  {
   "cell_type": "markdown",
   "metadata": {},
   "source": [
    "### Although we drop some feature but first we see the whole effect on Diabetic Status"
   ]
  },
  {
   "cell_type": "code",
   "execution_count": 19,
   "metadata": {},
   "outputs": [],
   "source": [
    "x= df[['Glucose','Insulin','Pregnancies','SkinThickness','DiabetesPedigreeFunction','Age']]\n",
    "y = df['Diabetic Possitive']"
   ]
  },
  {
   "cell_type": "code",
   "execution_count": 20,
   "metadata": {},
   "outputs": [
    {
     "data": {
      "text/plain": [
       "LogisticRegression()"
      ]
     },
     "execution_count": 20,
     "metadata": {},
     "output_type": "execute_result"
    }
   ],
   "source": [
    "from sklearn.model_selection import train_test_split\n",
    "x_train,x_test,y_train,y_test = train_test_split(x,y,test_size=0.25,random_state=101)\n",
    "from sklearn.linear_model import LogisticRegression\n",
    "logm1 = LogisticRegression()\n",
    "logm1.fit(x_train,y_train)\n"
   ]
  },
  {
   "cell_type": "code",
   "execution_count": 21,
   "metadata": {},
   "outputs": [
    {
     "name": "stdout",
     "output_type": "stream",
     "text": [
      "              precision    recall  f1-score   support\n",
      "\n",
      "           0       0.78      0.92      0.84        62\n",
      "           1       0.81      0.57      0.67        37\n",
      "\n",
      "    accuracy                           0.79        99\n",
      "   macro avg       0.79      0.74      0.76        99\n",
      "weighted avg       0.79      0.79      0.78        99\n",
      "\n"
     ]
    }
   ],
   "source": [
    "y_pre1 = logm1.predict(x_test)\n",
    "from sklearn.metrics import classification_report\n",
    "print(classification_report(y_test,y_pre1))"
   ]
  },
  {
   "cell_type": "code",
   "execution_count": 22,
   "metadata": {},
   "outputs": [
    {
     "data": {
      "text/plain": [
       "LogisticRegression()"
      ]
     },
     "execution_count": 22,
     "metadata": {},
     "output_type": "execute_result"
    }
   ],
   "source": [
    "x_train3,x_test3,y_train3,y_test3 = train_test_split(df[['Glucose']],df['Diabetic Possitive'],test_size=0.25,random_state=101)\n",
    "logm3 = LogisticRegression()\n",
    "logm3.fit(x_train3,y_train3)"
   ]
  },
  {
   "cell_type": "code",
   "execution_count": 23,
   "metadata": {},
   "outputs": [
    {
     "name": "stdout",
     "output_type": "stream",
     "text": [
      "              precision    recall  f1-score   support\n",
      "\n",
      "           0       0.75      0.90      0.82        62\n",
      "           1       0.75      0.49      0.59        37\n",
      "\n",
      "    accuracy                           0.75        99\n",
      "   macro avg       0.75      0.69      0.70        99\n",
      "weighted avg       0.75      0.75      0.73        99\n",
      "\n"
     ]
    }
   ],
   "source": [
    "y_pre3 = logm3.predict(x_test3)\n",
    "print(classification_report(y_test3,y_pre3))"
   ]
  },
  {
   "cell_type": "markdown",
   "metadata": {},
   "source": [
    "## Logit Model\n",
    "\n",
    "\n",
    "#### considering only Glucose as independent feature and see the effect"
   ]
  },
  {
   "cell_type": "markdown",
   "metadata": {},
   "source": [
    "#### MODEL 1"
   ]
  },
  {
   "cell_type": "code",
   "execution_count": 24,
   "metadata": {},
   "outputs": [
    {
     "name": "stdout",
     "output_type": "stream",
     "text": [
      "Optimization terminated successfully.\n",
      "         Current function value: 0.491433\n",
      "         Iterations 6\n"
     ]
    },
    {
     "data": {
      "text/html": [
       "<table class=\"simpletable\">\n",
       "<caption>Logit Regression Results</caption>\n",
       "<tr>\n",
       "  <th>Dep. Variable:</th>   <td>Diabetic Possitive</td> <th>  No. Observations:  </th>  <td>   394</td>  \n",
       "</tr>\n",
       "<tr>\n",
       "  <th>Model:</th>                  <td>Logit</td>       <th>  Df Residuals:      </th>  <td>   392</td>  \n",
       "</tr>\n",
       "<tr>\n",
       "  <th>Method:</th>                  <td>MLE</td>        <th>  Df Model:          </th>  <td>     1</td>  \n",
       "</tr>\n",
       "<tr>\n",
       "  <th>Date:</th>             <td>Fri, 07 Jan 2022</td>  <th>  Pseudo R-squ.:     </th>  <td>0.2250</td>  \n",
       "</tr>\n",
       "<tr>\n",
       "  <th>Time:</th>                 <td>19:51:42</td>      <th>  Log-Likelihood:    </th> <td> -193.62</td> \n",
       "</tr>\n",
       "<tr>\n",
       "  <th>converged:</th>              <td>True</td>        <th>  LL-Null:           </th> <td> -249.85</td> \n",
       "</tr>\n",
       "<tr>\n",
       "  <th>Covariance Type:</th>      <td>nonrobust</td>     <th>  LLR p-value:       </th> <td>2.840e-26</td>\n",
       "</tr>\n",
       "</table>\n",
       "<table class=\"simpletable\">\n",
       "<tr>\n",
       "     <td></td>        <th>coef</th>     <th>std err</th>      <th>z</th>      <th>P>|z|</th>  <th>[0.025</th>    <th>0.975]</th>  \n",
       "</tr>\n",
       "<tr>\n",
       "  <th>const</th>   <td>   -6.1090</td> <td>    0.630</td> <td>   -9.695</td> <td> 0.000</td> <td>   -7.344</td> <td>   -4.874</td>\n",
       "</tr>\n",
       "<tr>\n",
       "  <th>Glucose</th> <td>    0.0425</td> <td>    0.005</td> <td>    8.922</td> <td> 0.000</td> <td>    0.033</td> <td>    0.052</td>\n",
       "</tr>\n",
       "</table>"
      ],
      "text/plain": [
       "<class 'statsmodels.iolib.summary.Summary'>\n",
       "\"\"\"\n",
       "                           Logit Regression Results                           \n",
       "==============================================================================\n",
       "Dep. Variable:     Diabetic Possitive   No. Observations:                  394\n",
       "Model:                          Logit   Df Residuals:                      392\n",
       "Method:                           MLE   Df Model:                            1\n",
       "Date:                Fri, 07 Jan 2022   Pseudo R-squ.:                  0.2250\n",
       "Time:                        19:51:42   Log-Likelihood:                -193.62\n",
       "converged:                       True   LL-Null:                       -249.85\n",
       "Covariance Type:            nonrobust   LLR p-value:                 2.840e-26\n",
       "==============================================================================\n",
       "                 coef    std err          z      P>|z|      [0.025      0.975]\n",
       "------------------------------------------------------------------------------\n",
       "const         -6.1090      0.630     -9.695      0.000      -7.344      -4.874\n",
       "Glucose        0.0425      0.005      8.922      0.000       0.033       0.052\n",
       "==============================================================================\n",
       "\"\"\""
      ]
     },
     "execution_count": 24,
     "metadata": {},
     "output_type": "execute_result"
    }
   ],
   "source": [
    "y_1 = df['Diabetic Possitive']\n",
    "x_1= df[['Glucose']]\n",
    "\n",
    "import statsmodels.api as sm\n",
    "logit = sm.Logit(y_1,sm.add_constant(x_1))\n",
    "F_result = logit.fit()\n",
    "F_result.summary()"
   ]
  },
  {
   "cell_type": "markdown",
   "metadata": {},
   "source": [
    "#### MODEL 2"
   ]
  },
  {
   "cell_type": "code",
   "execution_count": 29,
   "metadata": {},
   "outputs": [
    {
     "name": "stdout",
     "output_type": "stream",
     "text": [
      "Optimization terminated successfully.\n",
      "         Current function value: 0.491419\n",
      "         Iterations 6\n"
     ]
    },
    {
     "data": {
      "text/html": [
       "<table class=\"simpletable\">\n",
       "<caption>Logit Regression Results</caption>\n",
       "<tr>\n",
       "  <th>Dep. Variable:</th>   <td>Diabetic Possitive</td> <th>  No. Observations:  </th>  <td>   394</td>  \n",
       "</tr>\n",
       "<tr>\n",
       "  <th>Model:</th>                  <td>Logit</td>       <th>  Df Residuals:      </th>  <td>   391</td>  \n",
       "</tr>\n",
       "<tr>\n",
       "  <th>Method:</th>                  <td>MLE</td>        <th>  Df Model:          </th>  <td>     2</td>  \n",
       "</tr>\n",
       "<tr>\n",
       "  <th>Date:</th>             <td>Fri, 07 Jan 2022</td>  <th>  Pseudo R-squ.:     </th>  <td>0.2251</td>  \n",
       "</tr>\n",
       "<tr>\n",
       "  <th>Time:</th>                 <td>19:52:39</td>      <th>  Log-Likelihood:    </th> <td> -193.62</td> \n",
       "</tr>\n",
       "<tr>\n",
       "  <th>converged:</th>              <td>True</td>        <th>  LL-Null:           </th> <td> -249.85</td> \n",
       "</tr>\n",
       "<tr>\n",
       "  <th>Covariance Type:</th>      <td>nonrobust</td>     <th>  LLR p-value:       </th> <td>3.787e-25</td>\n",
       "</tr>\n",
       "</table>\n",
       "<table class=\"simpletable\">\n",
       "<tr>\n",
       "     <td></td>        <th>coef</th>     <th>std err</th>      <th>z</th>      <th>P>|z|</th>  <th>[0.025</th>    <th>0.975]</th>  \n",
       "</tr>\n",
       "<tr>\n",
       "  <th>const</th>   <td>   -6.0948</td> <td>    0.645</td> <td>   -9.454</td> <td> 0.000</td> <td>   -7.358</td> <td>   -4.831</td>\n",
       "</tr>\n",
       "<tr>\n",
       "  <th>Glucose</th> <td>    0.0422</td> <td>    0.005</td> <td>    7.726</td> <td> 0.000</td> <td>    0.032</td> <td>    0.053</td>\n",
       "</tr>\n",
       "<tr>\n",
       "  <th>Insulin</th> <td>    0.0001</td> <td>    0.001</td> <td>    0.103</td> <td> 0.918</td> <td>   -0.002</td> <td>    0.003</td>\n",
       "</tr>\n",
       "</table>"
      ],
      "text/plain": [
       "<class 'statsmodels.iolib.summary.Summary'>\n",
       "\"\"\"\n",
       "                           Logit Regression Results                           \n",
       "==============================================================================\n",
       "Dep. Variable:     Diabetic Possitive   No. Observations:                  394\n",
       "Model:                          Logit   Df Residuals:                      391\n",
       "Method:                           MLE   Df Model:                            2\n",
       "Date:                Fri, 07 Jan 2022   Pseudo R-squ.:                  0.2251\n",
       "Time:                        19:52:39   Log-Likelihood:                -193.62\n",
       "converged:                       True   LL-Null:                       -249.85\n",
       "Covariance Type:            nonrobust   LLR p-value:                 3.787e-25\n",
       "==============================================================================\n",
       "                 coef    std err          z      P>|z|      [0.025      0.975]\n",
       "------------------------------------------------------------------------------\n",
       "const         -6.0948      0.645     -9.454      0.000      -7.358      -4.831\n",
       "Glucose        0.0422      0.005      7.726      0.000       0.032       0.053\n",
       "Insulin        0.0001      0.001      0.103      0.918      -0.002       0.003\n",
       "==============================================================================\n",
       "\"\"\""
      ]
     },
     "execution_count": 29,
     "metadata": {},
     "output_type": "execute_result"
    }
   ],
   "source": [
    "y_A = df['Diabetic Possitive']\n",
    "x_A= df[['Glucose','Insulin']]\n",
    "\n",
    "logit = sm.Logit(y_A,sm.add_constant(x_A))\n",
    "F_result = logit.fit()\n",
    "F_result.summary()"
   ]
  },
  {
   "cell_type": "markdown",
   "metadata": {},
   "source": [
    "### here we can see that the insulin level is insignificant to the model because here Glucose and insulin are highly correlated to each other "
   ]
  },
  {
   "cell_type": "markdown",
   "metadata": {},
   "source": [
    "#### MODEL 4"
   ]
  },
  {
   "cell_type": "code",
   "execution_count": 30,
   "metadata": {},
   "outputs": [
    {
     "name": "stdout",
     "output_type": "stream",
     "text": [
      "Optimization terminated successfully.\n",
      "         Current function value: 0.479811\n",
      "         Iterations 6\n"
     ]
    },
    {
     "data": {
      "text/html": [
       "<table class=\"simpletable\">\n",
       "<caption>Logit Regression Results</caption>\n",
       "<tr>\n",
       "  <th>Dep. Variable:</th>   <td>Diabetic Possitive</td> <th>  No. Observations:  </th>  <td>   394</td>  \n",
       "</tr>\n",
       "<tr>\n",
       "  <th>Model:</th>                  <td>Logit</td>       <th>  Df Residuals:      </th>  <td>   391</td>  \n",
       "</tr>\n",
       "<tr>\n",
       "  <th>Method:</th>                  <td>MLE</td>        <th>  Df Model:          </th>  <td>     2</td>  \n",
       "</tr>\n",
       "<tr>\n",
       "  <th>Date:</th>             <td>Fri, 07 Jan 2022</td>  <th>  Pseudo R-squ.:     </th>  <td>0.2434</td>  \n",
       "</tr>\n",
       "<tr>\n",
       "  <th>Time:</th>                 <td>19:53:59</td>      <th>  Log-Likelihood:    </th> <td> -189.05</td> \n",
       "</tr>\n",
       "<tr>\n",
       "  <th>converged:</th>              <td>True</td>        <th>  LL-Null:           </th> <td> -249.85</td> \n",
       "</tr>\n",
       "<tr>\n",
       "  <th>Covariance Type:</th>      <td>nonrobust</td>     <th>  LLR p-value:       </th> <td>3.908e-27</td>\n",
       "</tr>\n",
       "</table>\n",
       "<table class=\"simpletable\">\n",
       "<tr>\n",
       "              <td></td>                <th>coef</th>     <th>std err</th>      <th>z</th>      <th>P>|z|</th>  <th>[0.025</th>    <th>0.975]</th>  \n",
       "</tr>\n",
       "<tr>\n",
       "  <th>const</th>                    <td>   -6.6752</td> <td>    0.685</td> <td>   -9.750</td> <td> 0.000</td> <td>   -8.017</td> <td>   -5.333</td>\n",
       "</tr>\n",
       "<tr>\n",
       "  <th>Glucose</th>                  <td>    0.0422</td> <td>    0.005</td> <td>    8.728</td> <td> 0.000</td> <td>    0.033</td> <td>    0.052</td>\n",
       "</tr>\n",
       "<tr>\n",
       "  <th>DiabetesPedigreeFunction</th> <td>    1.1360</td> <td>    0.387</td> <td>    2.933</td> <td> 0.003</td> <td>    0.377</td> <td>    1.895</td>\n",
       "</tr>\n",
       "</table>"
      ],
      "text/plain": [
       "<class 'statsmodels.iolib.summary.Summary'>\n",
       "\"\"\"\n",
       "                           Logit Regression Results                           \n",
       "==============================================================================\n",
       "Dep. Variable:     Diabetic Possitive   No. Observations:                  394\n",
       "Model:                          Logit   Df Residuals:                      391\n",
       "Method:                           MLE   Df Model:                            2\n",
       "Date:                Fri, 07 Jan 2022   Pseudo R-squ.:                  0.2434\n",
       "Time:                        19:53:59   Log-Likelihood:                -189.05\n",
       "converged:                       True   LL-Null:                       -249.85\n",
       "Covariance Type:            nonrobust   LLR p-value:                 3.908e-27\n",
       "============================================================================================\n",
       "                               coef    std err          z      P>|z|      [0.025      0.975]\n",
       "--------------------------------------------------------------------------------------------\n",
       "const                       -6.6752      0.685     -9.750      0.000      -8.017      -5.333\n",
       "Glucose                      0.0422      0.005      8.728      0.000       0.033       0.052\n",
       "DiabetesPedigreeFunction     1.1360      0.387      2.933      0.003       0.377       1.895\n",
       "============================================================================================\n",
       "\"\"\""
      ]
     },
     "execution_count": 30,
     "metadata": {},
     "output_type": "execute_result"
    }
   ],
   "source": [
    "y_2 = df['Diabetic Possitive']\n",
    "x_2= df[['Glucose','DiabetesPedigreeFunction']]\n",
    "\n",
    "logit = sm.Logit(y_2,sm.add_constant(x_2))\n",
    "F_result = logit.fit()\n",
    "F_result.summary()"
   ]
  },
  {
   "cell_type": "markdown",
   "metadata": {},
   "source": [
    "#### MODEL 5"
   ]
  },
  {
   "cell_type": "code",
   "execution_count": 31,
   "metadata": {},
   "outputs": [
    {
     "name": "stdout",
     "output_type": "stream",
     "text": [
      "Optimization terminated successfully.\n",
      "         Current function value: 0.440800\n",
      "         Iterations 7\n"
     ]
    },
    {
     "data": {
      "text/html": [
       "<table class=\"simpletable\">\n",
       "<caption>Logit Regression Results</caption>\n",
       "<tr>\n",
       "  <th>Dep. Variable:</th>   <td>Diabetic Possitive</td> <th>  No. Observations:  </th>  <td>   394</td>  \n",
       "</tr>\n",
       "<tr>\n",
       "  <th>Model:</th>                  <td>Logit</td>       <th>  Df Residuals:      </th>  <td>   389</td>  \n",
       "</tr>\n",
       "<tr>\n",
       "  <th>Method:</th>                  <td>MLE</td>        <th>  Df Model:          </th>  <td>     4</td>  \n",
       "</tr>\n",
       "<tr>\n",
       "  <th>Date:</th>             <td>Fri, 07 Jan 2022</td>  <th>  Pseudo R-squ.:     </th>  <td>0.3049</td>  \n",
       "</tr>\n",
       "<tr>\n",
       "  <th>Time:</th>                 <td>19:54:19</td>      <th>  Log-Likelihood:    </th> <td> -173.68</td> \n",
       "</tr>\n",
       "<tr>\n",
       "  <th>converged:</th>              <td>True</td>        <th>  LL-Null:           </th> <td> -249.85</td> \n",
       "</tr>\n",
       "<tr>\n",
       "  <th>Covariance Type:</th>      <td>nonrobust</td>     <th>  LLR p-value:       </th> <td>6.371e-32</td>\n",
       "</tr>\n",
       "</table>\n",
       "<table class=\"simpletable\">\n",
       "<tr>\n",
       "              <td></td>                <th>coef</th>     <th>std err</th>      <th>z</th>      <th>P>|z|</th>  <th>[0.025</th>    <th>0.975]</th>  \n",
       "</tr>\n",
       "<tr>\n",
       "  <th>const</th>                    <td>  -10.1200</td> <td>    1.076</td> <td>   -9.403</td> <td> 0.000</td> <td>  -12.229</td> <td>   -8.011</td>\n",
       "</tr>\n",
       "<tr>\n",
       "  <th>Glucose</th>                  <td>    0.0362</td> <td>    0.005</td> <td>    7.265</td> <td> 0.000</td> <td>    0.026</td> <td>    0.046</td>\n",
       "</tr>\n",
       "<tr>\n",
       "  <th>DiabetesPedigreeFunction</th> <td>    1.0758</td> <td>    0.417</td> <td>    2.581</td> <td> 0.010</td> <td>    0.259</td> <td>    1.893</td>\n",
       "</tr>\n",
       "<tr>\n",
       "  <th>BMI</th>                      <td>    0.0752</td> <td>    0.020</td> <td>    3.754</td> <td> 0.000</td> <td>    0.036</td> <td>    0.115</td>\n",
       "</tr>\n",
       "<tr>\n",
       "  <th>Age</th>                      <td>    0.0532</td> <td>    0.013</td> <td>    3.960</td> <td> 0.000</td> <td>    0.027</td> <td>    0.079</td>\n",
       "</tr>\n",
       "</table>"
      ],
      "text/plain": [
       "<class 'statsmodels.iolib.summary.Summary'>\n",
       "\"\"\"\n",
       "                           Logit Regression Results                           \n",
       "==============================================================================\n",
       "Dep. Variable:     Diabetic Possitive   No. Observations:                  394\n",
       "Model:                          Logit   Df Residuals:                      389\n",
       "Method:                           MLE   Df Model:                            4\n",
       "Date:                Fri, 07 Jan 2022   Pseudo R-squ.:                  0.3049\n",
       "Time:                        19:54:19   Log-Likelihood:                -173.68\n",
       "converged:                       True   LL-Null:                       -249.85\n",
       "Covariance Type:            nonrobust   LLR p-value:                 6.371e-32\n",
       "============================================================================================\n",
       "                               coef    std err          z      P>|z|      [0.025      0.975]\n",
       "--------------------------------------------------------------------------------------------\n",
       "const                      -10.1200      1.076     -9.403      0.000     -12.229      -8.011\n",
       "Glucose                      0.0362      0.005      7.265      0.000       0.026       0.046\n",
       "DiabetesPedigreeFunction     1.0758      0.417      2.581      0.010       0.259       1.893\n",
       "BMI                          0.0752      0.020      3.754      0.000       0.036       0.115\n",
       "Age                          0.0532      0.013      3.960      0.000       0.027       0.079\n",
       "============================================================================================\n",
       "\"\"\""
      ]
     },
     "execution_count": 31,
     "metadata": {},
     "output_type": "execute_result"
    }
   ],
   "source": [
    "y_3 = df['Diabetic Possitive']\n",
    "x_3= df[['Glucose','DiabetesPedigreeFunction','BMI','Age']]\n",
    "logit = sm.Logit(y_3,sm.add_constant(x_3))\n",
    "F_result = logit.fit()\n",
    "F_result.summary()"
   ]
  },
  {
   "cell_type": "markdown",
   "metadata": {},
   "source": [
    "## PROBIT MODEL"
   ]
  },
  {
   "cell_type": "markdown",
   "metadata": {},
   "source": [
    "#### MODEL 6"
   ]
  },
  {
   "cell_type": "code",
   "execution_count": 27,
   "metadata": {},
   "outputs": [
    {
     "name": "stdout",
     "output_type": "stream",
     "text": [
      "Optimization terminated successfully.\n",
      "         Current function value: 0.491663\n",
      "         Iterations 6\n"
     ]
    },
    {
     "data": {
      "text/html": [
       "<table class=\"simpletable\">\n",
       "<caption>Probit Regression Results</caption>\n",
       "<tr>\n",
       "  <th>Dep. Variable:</th>   <td>Diabetic Possitive</td> <th>  No. Observations:  </th>  <td>   394</td>  \n",
       "</tr>\n",
       "<tr>\n",
       "  <th>Model:</th>                 <td>Probit</td>       <th>  Df Residuals:      </th>  <td>   392</td>  \n",
       "</tr>\n",
       "<tr>\n",
       "  <th>Method:</th>                  <td>MLE</td>        <th>  Df Model:          </th>  <td>     1</td>  \n",
       "</tr>\n",
       "<tr>\n",
       "  <th>Date:</th>             <td>Fri, 07 Jan 2022</td>  <th>  Pseudo R-squ.:     </th>  <td>0.2247</td>  \n",
       "</tr>\n",
       "<tr>\n",
       "  <th>Time:</th>                 <td>19:51:43</td>      <th>  Log-Likelihood:    </th> <td> -193.72</td> \n",
       "</tr>\n",
       "<tr>\n",
       "  <th>converged:</th>              <td>True</td>        <th>  LL-Null:           </th> <td> -249.85</td> \n",
       "</tr>\n",
       "<tr>\n",
       "  <th>Covariance Type:</th>      <td>nonrobust</td>     <th>  LLR p-value:       </th> <td>3.112e-26</td>\n",
       "</tr>\n",
       "</table>\n",
       "<table class=\"simpletable\">\n",
       "<tr>\n",
       "     <td></td>        <th>coef</th>     <th>std err</th>      <th>z</th>      <th>P>|z|</th>  <th>[0.025</th>    <th>0.975]</th>  \n",
       "</tr>\n",
       "<tr>\n",
       "  <th>const</th>   <td>   -3.6019</td> <td>    0.340</td> <td>  -10.589</td> <td> 0.000</td> <td>   -4.269</td> <td>   -2.935</td>\n",
       "</tr>\n",
       "<tr>\n",
       "  <th>Glucose</th> <td>    0.0250</td> <td>    0.003</td> <td>    9.617</td> <td> 0.000</td> <td>    0.020</td> <td>    0.030</td>\n",
       "</tr>\n",
       "</table>"
      ],
      "text/plain": [
       "<class 'statsmodels.iolib.summary.Summary'>\n",
       "\"\"\"\n",
       "                          Probit Regression Results                           \n",
       "==============================================================================\n",
       "Dep. Variable:     Diabetic Possitive   No. Observations:                  394\n",
       "Model:                         Probit   Df Residuals:                      392\n",
       "Method:                           MLE   Df Model:                            1\n",
       "Date:                Fri, 07 Jan 2022   Pseudo R-squ.:                  0.2247\n",
       "Time:                        19:51:43   Log-Likelihood:                -193.72\n",
       "converged:                       True   LL-Null:                       -249.85\n",
       "Covariance Type:            nonrobust   LLR p-value:                 3.112e-26\n",
       "==============================================================================\n",
       "                 coef    std err          z      P>|z|      [0.025      0.975]\n",
       "------------------------------------------------------------------------------\n",
       "const         -3.6019      0.340    -10.589      0.000      -4.269      -2.935\n",
       "Glucose        0.0250      0.003      9.617      0.000       0.020       0.030\n",
       "==============================================================================\n",
       "\"\"\""
      ]
     },
     "execution_count": 27,
     "metadata": {},
     "output_type": "execute_result"
    }
   ],
   "source": [
    "y5 = df['Diabetic Possitive']\n",
    "x5= df[['Glucose']]\n",
    "\n",
    "Probit = sm.Probit(y,sm.add_constant(x5))\n",
    "F_result = Probit.fit()\n",
    "F_result.summary()"
   ]
  },
  {
   "cell_type": "markdown",
   "metadata": {},
   "source": [
    "#### MODEL 7"
   ]
  },
  {
   "cell_type": "code",
   "execution_count": 28,
   "metadata": {},
   "outputs": [
    {
     "name": "stdout",
     "output_type": "stream",
     "text": [
      "Optimization terminated successfully.\n",
      "         Current function value: 0.442050\n",
      "         Iterations 6\n"
     ]
    },
    {
     "data": {
      "text/html": [
       "<table class=\"simpletable\">\n",
       "<caption>Probit Regression Results</caption>\n",
       "<tr>\n",
       "  <th>Dep. Variable:</th>   <td>Diabetic Possitive</td> <th>  No. Observations:  </th>  <td>   394</td>  \n",
       "</tr>\n",
       "<tr>\n",
       "  <th>Model:</th>                 <td>Probit</td>       <th>  Df Residuals:      </th>  <td>   389</td>  \n",
       "</tr>\n",
       "<tr>\n",
       "  <th>Method:</th>                  <td>MLE</td>        <th>  Df Model:          </th>  <td>     4</td>  \n",
       "</tr>\n",
       "<tr>\n",
       "  <th>Date:</th>             <td>Fri, 07 Jan 2022</td>  <th>  Pseudo R-squ.:     </th>  <td>0.3029</td>  \n",
       "</tr>\n",
       "<tr>\n",
       "  <th>Time:</th>                 <td>19:51:43</td>      <th>  Log-Likelihood:    </th> <td> -174.17</td> \n",
       "</tr>\n",
       "<tr>\n",
       "  <th>converged:</th>              <td>True</td>        <th>  LL-Null:           </th> <td> -249.85</td> \n",
       "</tr>\n",
       "<tr>\n",
       "  <th>Covariance Type:</th>      <td>nonrobust</td>     <th>  LLR p-value:       </th> <td>1.036e-31</td>\n",
       "</tr>\n",
       "</table>\n",
       "<table class=\"simpletable\">\n",
       "<tr>\n",
       "              <td></td>                <th>coef</th>     <th>std err</th>      <th>z</th>      <th>P>|z|</th>  <th>[0.025</th>    <th>0.975]</th>  \n",
       "</tr>\n",
       "<tr>\n",
       "  <th>const</th>                    <td>   -5.7858</td> <td>    0.559</td> <td>  -10.350</td> <td> 0.000</td> <td>   -6.881</td> <td>   -4.690</td>\n",
       "</tr>\n",
       "<tr>\n",
       "  <th>Glucose</th>                  <td>    0.0207</td> <td>    0.003</td> <td>    7.536</td> <td> 0.000</td> <td>    0.015</td> <td>    0.026</td>\n",
       "</tr>\n",
       "<tr>\n",
       "  <th>DiabetesPedigreeFunction</th> <td>    0.5268</td> <td>    0.220</td> <td>    2.395</td> <td> 0.017</td> <td>    0.096</td> <td>    0.958</td>\n",
       "</tr>\n",
       "<tr>\n",
       "  <th>BMI</th>                      <td>    0.0433</td> <td>    0.011</td> <td>    3.814</td> <td> 0.000</td> <td>    0.021</td> <td>    0.066</td>\n",
       "</tr>\n",
       "<tr>\n",
       "  <th>Age</th>                      <td>    0.0307</td> <td>    0.008</td> <td>    4.066</td> <td> 0.000</td> <td>    0.016</td> <td>    0.045</td>\n",
       "</tr>\n",
       "</table>"
      ],
      "text/plain": [
       "<class 'statsmodels.iolib.summary.Summary'>\n",
       "\"\"\"\n",
       "                          Probit Regression Results                           \n",
       "==============================================================================\n",
       "Dep. Variable:     Diabetic Possitive   No. Observations:                  394\n",
       "Model:                         Probit   Df Residuals:                      389\n",
       "Method:                           MLE   Df Model:                            4\n",
       "Date:                Fri, 07 Jan 2022   Pseudo R-squ.:                  0.3029\n",
       "Time:                        19:51:43   Log-Likelihood:                -174.17\n",
       "converged:                       True   LL-Null:                       -249.85\n",
       "Covariance Type:            nonrobust   LLR p-value:                 1.036e-31\n",
       "============================================================================================\n",
       "                               coef    std err          z      P>|z|      [0.025      0.975]\n",
       "--------------------------------------------------------------------------------------------\n",
       "const                       -5.7858      0.559    -10.350      0.000      -6.881      -4.690\n",
       "Glucose                      0.0207      0.003      7.536      0.000       0.015       0.026\n",
       "DiabetesPedigreeFunction     0.5268      0.220      2.395      0.017       0.096       0.958\n",
       "BMI                          0.0433      0.011      3.814      0.000       0.021       0.066\n",
       "Age                          0.0307      0.008      4.066      0.000       0.016       0.045\n",
       "============================================================================================\n",
       "\"\"\""
      ]
     },
     "execution_count": 28,
     "metadata": {},
     "output_type": "execute_result"
    }
   ],
   "source": [
    "y5 = df['Diabetic Possitive']\n",
    "x5= df[['Glucose','DiabetesPedigreeFunction','BMI','Age']]\n",
    "Probit = sm.Probit(y,sm.add_constant(x5))\n",
    "F_result = Probit.fit()\n",
    "F_result.summary()"
   ]
  },
  {
   "cell_type": "markdown",
   "metadata": {},
   "source": [
    "### we can see that by Logit model (MODEL 5) we got Pseudo R-squ. = 0.3049 and by Probit Model (MODEL 7) we got Pseudo R-squ. = 0.3029\n",
    "#### so most affecting features are Glucose, DiabetesPedigreeFunction  BMI  Age"
   ]
  }
 ],
 "metadata": {
  "interpreter": {
   "hash": "1478dc70aa0a8d6542d204416244c5b198ada7291302e5abfc871c3f2006542a"
  },
  "kernelspec": {
   "display_name": "Python 3.8.8 64-bit ('base': conda)",
   "name": "python3"
  },
  "language_info": {
   "codemirror_mode": {
    "name": "ipython",
    "version": 3
   },
   "file_extension": ".py",
   "mimetype": "text/x-python",
   "name": "python",
   "nbconvert_exporter": "python",
   "pygments_lexer": "ipython3",
   "version": "3.8.8"
  },
  "orig_nbformat": 4
 },
 "nbformat": 4,
 "nbformat_minor": 2
}
